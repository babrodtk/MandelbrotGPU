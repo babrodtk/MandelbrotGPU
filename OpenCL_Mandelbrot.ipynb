{
 "cells": [
  {
   "cell_type": "code",
   "execution_count": 11,
   "metadata": {
    "collapsed": false
   },
   "outputs": [
    {
     "name": "stdout",
     "output_type": "stream",
     "text": [
      "The pyopencl.ipython_ext extension is already loaded. To reload it, use:\n",
      "  %reload_ext pyopencl.ipython_ext\n"
     ]
    }
   ],
   "source": [
    "#Lets have matplotlib \"inline\"\n",
    "%matplotlib inline\n",
    "\n",
    "%load_ext pyopencl.ipython_ext\n",
    "\n",
    "#Import packages we need\n",
    "import numpy as np\n",
    "from matplotlib import animation, rc\n",
    "from matplotlib import pyplot as plt\n",
    "\n",
    "#Set large figure sizes\n",
    "#Note, this prevents nice figures for articles...\n",
    "rc('figure', figsize=(16.0, 12.0))\n",
    "rc('animation', html='html5')\n",
    "\n",
    "#Make sure we get compiler output from OpenCL\n",
    "import os\n",
    "os.environ[\"PYOPENCL_COMPILER_OUTPUT\"] = \"1\""
   ]
  },
  {
   "cell_type": "code",
   "execution_count": 12,
   "metadata": {
    "collapsed": true
   },
   "outputs": [],
   "source": [
    "import pyopencl as cl\n",
    "\n",
    "import time"
   ]
  },
  {
   "cell_type": "code",
   "execution_count": 13,
   "metadata": {
    "collapsed": false
   },
   "outputs": [
    {
     "name": "stdout",
     "output_type": "stream",
     "text": [
      "Using  Tesla M2090\n"
     ]
    }
   ],
   "source": [
    "#Create OpenCL context\n",
    "os.environ[\"PYOPENCL_CTX\"] = \"0\"\n",
    "cl_ctx = cl.create_some_context()\n",
    "\n",
    "print(\"Using \", cl_ctx.devices[0].name)"
   ]
  },
  {
   "cell_type": "code",
   "execution_count": 14,
   "metadata": {
    "collapsed": true
   },
   "outputs": [],
   "source": [
    "prg = cl.Program(cl_ctx, \n",
    "\"\"\"\n",
    "__kernel void mandelbrotKernel(__global float* output, unsigned int pitch, \n",
    "            unsigned int nx, unsigned int ny, \n",
    "            unsigned int iterations, \n",
    "            float x0, float y0, \n",
    "            float dx, float dy) {\n",
    "\n",
    "    //Get thread id of this thread\n",
    "    int i = get_global_id(0);\n",
    "    int j = get_global_id(1);\n",
    "\n",
    "    //Check for out of bounds\n",
    "    if (i < nx && j < ny) {\n",
    "        float x = i*dx + x0;\n",
    "        float y = j*dy + y0;\n",
    "\n",
    "        float2 z0 = (float2)(x, y);\n",
    "        float2 z = z0;\n",
    "        int k = 0;\n",
    "\n",
    "        //Loop until iterations or until it diverges\n",
    "        while (z.x*z.x + z.y*z.y < 25.0 && k < iterations) {\n",
    "            float tmp = z.x*z.x - z.y*z.y + z0.x;\n",
    "            z.y = 2 * z.x*z.y + z0.y;\n",
    "            z.x = tmp;\n",
    "            ++k;\n",
    "        }\n",
    "\n",
    "        //Write out result to GPU memory\n",
    "        if (k < iterations) {\n",
    "            __global float* row = (__global float*)((__global char*) output + j*pitch);\n",
    "            row[i] = fmod((k - log(log(sqrt(z.x*z.x + z.y*z.y)) / log(5.0)) / log(2.0)) / 100, 1.0);\n",
    "        }\n",
    "        else {\n",
    "            __global float* row = (__global float*)((__global char*) output + j*pitch);\n",
    "            row[i] = 0.0f;\n",
    "        }\n",
    "    }\n",
    "}\"\"\").build()"
   ]
  },
  {
   "cell_type": "code",
   "execution_count": 15,
   "metadata": {
    "collapsed": true
   },
   "outputs": [],
   "source": [
    "def mandelbrot(nx, ny, iterations,\n",
    "              x0, y0, \n",
    "              dx, dy,\n",
    "              block_width=8, block_height=8):\n",
    "    num_zooms = len(x0)\n",
    "    zooms = list(range(num_zooms))\n",
    "    \n",
    "    assert num_zooms == len(x0)\n",
    "    assert num_zooms == len(y0)\n",
    "    assert num_zooms == len(dx)\n",
    "    assert num_zooms == len(dy)\n",
    "    \n",
    "    #Create block dimensions and grid dimensions\n",
    "    local_size = (block_width, block_height, 1)\n",
    "    global_size = (nx, ny, 1)\n",
    "    \n",
    "    #allocate gpu data\n",
    "    output_gpu = [None]*num_zooms\n",
    "    for i in range(num_zooms):\n",
    "        output_gpu[i] = cl.Buffer(cl_ctx, cl.mem_flags.WRITE_ONLY, nx*ny*4)\n",
    "        \n",
    "    #create command queue\n",
    "    cl_queue = cl.CommandQueue(cl_ctx, properties=cl.command_queue_properties.PROFILING_ENABLE)\n",
    "        \n",
    "    #Run kernel and generate images\n",
    "    events = [None]*num_zooms\n",
    "    def launch(i):\n",
    "        events[i] = prg.mandelbrotKernel(cl_queue, global_size, local_size,\n",
    "                                            output_gpu[i], np.uint32(nx*4),\n",
    "                                            np.uint32(nx), np.uint32(ny), np.uint32(iterations),\n",
    "                                            np.float32(x0[i]), np.float32(y0[i]),\n",
    "                                            np.float32(dx[i]), np.float32(dy[i]))\n",
    "\n",
    "    enqueue_compute_start = time.time()\n",
    "    [launch(i) for i in zooms]\n",
    "    enqueue_compute_end = time.time()\n",
    "    \n",
    "    #Synchronize\n",
    "    sync_compute_start = time.time()\n",
    "    gpu_time_compute = 0.0;\n",
    "    for i in zooms:\n",
    "        events[i].wait()\n",
    "        milliseconds = 0.0\n",
    "        milliseconds = 1.0e-6*(events[i].profile.end - events[i].profile.start)\n",
    "        print(\"Iteration {:d} took {:f} ms\".format(i, milliseconds))\n",
    "        gpu_time_compute += milliseconds\n",
    "    sync_compute_end = time.time()\n",
    "    \n",
    "    print(\"Compute\")\n",
    "    print(\"Enqueue:  {:f} s\".format(enqueue_compute_end - enqueue_compute_start))\n",
    "    print(\"Sync:     {:f} s\".format(sync_compute_end - sync_compute_start))\n",
    "    print(\"CPU time: {:f} s\".format(enqueue_compute_end + sync_compute_end - enqueue_compute_start - sync_compute_start))\n",
    "    print(\"GPU time: {:f} s\".format(gpu_time_compute * 1.0e-3))\n",
    "\n",
    "    #Allocate CPU data\n",
    "    retval = [None]*num_zooms\n",
    "    for i in range(num_zooms):\n",
    "        retval[i] = c = np.empty((ny, nx), dtype=np.float32)\n",
    "    \n",
    "    #Download from GPU to CPU\n",
    "    def download(i):\n",
    "        events[i] = cl.enqueue_copy(cl_queue, retval[i], output_gpu[i], is_blocking=False)\n",
    "        \n",
    "    enqueue_dl_start = time.time()\n",
    "    [download(i) for i in zooms]\n",
    "    enqueue_dl_end = time.time()\n",
    "    \n",
    "    #synchronize\n",
    "    sync_dl_start = time.time()\n",
    "    gpu_time_dl = 0.0\n",
    "    for i in zooms:\n",
    "        events[i].wait()\n",
    "        milliseconds = 0.0\n",
    "        milliseconds = 1.0e-6*(events[i].profile.end - events[i].profile.start)\n",
    "        print(\"Iteration {:d} took {:f} ms\".format(i, milliseconds))\n",
    "        gpu_time_dl += milliseconds\n",
    "    sync_dl_end = time.time()\n",
    "    \n",
    "    print(\"Download\")\n",
    "    print(\"Enqueue:  {:f} s\".format(enqueue_dl_end - enqueue_dl_start))\n",
    "    print(\"Sync:     {:f} s\".format(sync_dl_end - sync_dl_start))\n",
    "    print(\"CPU time: {:f} s\".format(enqueue_dl_end + sync_dl_end - enqueue_dl_start - sync_dl_start))\n",
    "    print(\"GPU time: {:f} s\".format(gpu_time_dl * 1.0e-3))\n",
    "    \n",
    "    print(\"========\")\n",
    "    print(\"Averages\")\n",
    "    print(\"Enqueue compute:  {:f} ms\".format(1.0e3*(enqueue_compute_end - enqueue_compute_start) / num_zooms))\n",
    "    print(\"Enqueue download: {:f} ms\".format(1.0e3*(enqueue_dl_end - enqueue_dl_start) / num_zooms))\n",
    "    print(\"Kernel:           {:f} ms\".format(gpu_time_compute / num_zooms))\n",
    "    print(\"Download:         {:f} ms\".format(gpu_time_dl / num_zooms))\n",
    "    print(\"========\")\n",
    "    \n",
    "    return retval"
   ]
  },
  {
   "cell_type": "code",
   "execution_count": 16,
   "metadata": {
    "collapsed": false
   },
   "outputs": [
    {
     "name": "stdout",
     "output_type": "stream",
     "text": [
      "2.850000 x 1.900000\n",
      "2.707500 x 1.805000\n",
      "2.572125 x 1.714750\n",
      "2.443519 x 1.629012\n",
      "2.321343 x 1.547562\n",
      "2.205276 x 1.470184\n",
      "2.095012 x 1.396675\n",
      "1.990261 x 1.326841\n",
      "1.890748 x 1.260499\n",
      "Iteration 0 took 164.620576 ms\n",
      "Iteration 1 took 179.861248 ms\n",
      "Iteration 2 took 197.684064 ms\n",
      "Iteration 3 took 216.941280 ms\n",
      "Iteration 4 took 238.523872 ms\n",
      "Iteration 5 took 261.850944 ms\n",
      "Iteration 6 took 284.008768 ms\n",
      "Iteration 7 took 299.410912 ms\n",
      "Iteration 8 took 310.595008 ms\n",
      "Iteration 9 took 321.855936 ms\n",
      "Compute\n",
      "Enqueue:  0.006315 s\n",
      "Sync:     2.472781 s\n",
      "CPU time: 2.479096 s\n",
      "GPU time: 2.475353 s\n",
      "Iteration 0 took 6.064800 ms\n",
      "Iteration 1 took 5.113920 ms\n",
      "Iteration 2 took 10.468704 ms\n",
      "Iteration 3 took 10.502624 ms\n",
      "Iteration 4 took 10.278656 ms\n",
      "Iteration 5 took 10.006688 ms\n",
      "Iteration 6 took 9.589024 ms\n",
      "Iteration 7 took 9.672192 ms\n",
      "Iteration 8 took 9.352096 ms\n",
      "Iteration 9 took 9.287840 ms\n",
      "Download\n",
      "Enqueue:  0.071430 s\n",
      "Sync:     0.026221 s\n",
      "CPU time: 0.097651 s\n",
      "GPU time: 0.090337 s\n",
      "========\n",
      "Averages\n",
      "Enqueue compute:  0.631475 ms\n",
      "Enqueue download: 7.142997 ms\n",
      "Kernel:           247.535261 ms\n",
      "Download:         9.033654 ms\n",
      "========\n"
     ]
    }
   ],
   "source": [
    "n = 1024\n",
    "nx = 3*n\n",
    "ny = 2*n\n",
    "iterations = 5000\n",
    "num_zooms = 10\n",
    "\n",
    "x_center = -0.75 + 0.0025\n",
    "y_center = 0.1\n",
    "factor = 0.95\n",
    "\n",
    "x0 = np.empty(num_zooms, dtype=np.float32)\n",
    "y0 = np.empty(num_zooms, dtype=np.float32)\n",
    "dx = np.empty(num_zooms, dtype=np.float32)\n",
    "dy = np.empty(num_zooms, dtype=np.float32)\n",
    "\n",
    "x0[0] = x_center - 1.5\n",
    "y0[0] = y_center - 1.0\n",
    "dx[0] = 3.0 / nx\n",
    "dy[0] = 2.0 / ny\n",
    "\n",
    "for i in range(1, num_zooms):\n",
    "    dx[i] = dx[i-1] * factor\n",
    "    dy[i] = dy[i-1] * factor\n",
    "    \n",
    "    x0[i] = x_center - dx[i]*nx/2\n",
    "    y0[i] = y_center - dy[i]*ny/2\n",
    "    \n",
    "    print(\"{:f} x {:f}\".format(dx[i]*nx, dy[i]*ny))\n",
    "    \n",
    "results = mandelbrot(nx, ny, iterations, x0, y0, dx, dy)"
   ]
  },
  {
   "cell_type": "code",
   "execution_count": 17,
   "metadata": {
    "collapsed": false
   },
   "outputs": [
    {
     "name": "stderr",
     "output_type": "stream",
     "text": [
      "/home/martinls/.local/lib/python3.5/site-packages/matplotlib/figure.py:2362: UserWarning: This figure includes Axes that are not compatible with tight_layout, so results might be incorrect.\n",
      "  warnings.warn(\"This figure includes Axes that are not compatible \"\n"
     ]
    },
    {
     "data": {
      "text/html": [
       "\n",
       "<div align=\"middle\">\n",
       "<video width=\"80%\" controls>\n",
       "<source src=\"mandelbrot.mp4\" type=\"video/mp4\">\n",
       "</video>\n",
       "</div>\n"
      ],
      "text/plain": [
       "<IPython.core.display.HTML object>"
      ]
     },
     "metadata": {},
     "output_type": "display_data"
    }
   ],
   "source": [
    "dpi=300\n",
    "\n",
    "fig = plt.figure(figsize=(nx/dpi, ny/dpi), dpi=dpi)\n",
    "ax = plt.axes([0, 0, 1, 1])\n",
    "im = plt.imshow(results[0], origin='lower', cmap=\"terrain\", vmax=1.0, vmin=0.0)\n",
    "plt.axis('off')\n",
    "#gca().xaxis.set_major_locator(NullLocator())\n",
    "#gca().yaxis.set_major_locator(NullLocator())\n",
    "plt.tight_layout()\n",
    "\n",
    "def animate(i):\n",
    "    im.set_data(results[i])\n",
    "\n",
    "anim = animation.FuncAnimation(fig, animate, interval=150, frames=range(len(results)))\n",
    "plt.close()\n",
    "\n",
    "from matplotlib.animation import FFMpegWriter\n",
    "from IPython.display import display, HTML\n",
    "writer = FFMpegWriter(fps=25)\n",
    "anim.save(\"mandelbrot.mp4\", writer=writer)\n",
    "display(HTML(\"\"\"\n",
    "<div align=\"middle\">\n",
    "<video width=\"80%\" controls>\n",
    "<source src=\"{:s}\" type=\"video/mp4\">\n",
    "</video>\n",
    "</div>\n",
    "\"\"\".format(\"mandelbrot.mp4\")))"
   ]
  },
  {
   "cell_type": "code",
   "execution_count": null,
   "metadata": {
    "collapsed": true
   },
   "outputs": [],
   "source": []
  }
 ],
 "metadata": {
  "kernelspec": {
   "display_name": "Python 3",
   "language": "python",
   "name": "python3"
  },
  "language_info": {
   "codemirror_mode": {
    "name": "ipython",
    "version": 3
   },
   "file_extension": ".py",
   "mimetype": "text/x-python",
   "name": "python",
   "nbconvert_exporter": "python",
   "pygments_lexer": "ipython3",
   "version": "3.5.2"
  }
 },
 "nbformat": 4,
 "nbformat_minor": 2
}
